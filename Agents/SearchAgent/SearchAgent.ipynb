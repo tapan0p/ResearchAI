{
 "cells": [
  {
   "cell_type": "code",
   "execution_count": 127,
   "metadata": {},
   "outputs": [],
   "source": [
    "import arxiv\n",
    "import requests\n",
    "from bs4 import BeautifulSoup \n",
    "import json\n",
    "import os"
   ]
  },
  {
   "cell_type": "code",
   "execution_count": 110,
   "metadata": {},
   "outputs": [],
   "source": [
    "class ArxivScraper:\n",
    "    def __init__(self):\n",
    "        pass \n",
    "\n",
    "    def get_papers(self,query):\n",
    "        response = requests.get(f\"https://arxiv.org/search/?query={query}&searchtype=all&source=header\")\n",
    "        soup = BeautifulSoup(response.text)\n",
    "        return self.clean_text(soup)\n",
    "    \n",
    "    def clean_text(self,soup):\n",
    "        papers_details = []\n",
    "        papers = soup.find_all(name=\"li\",attrs={\"class\":\"arxiv-result\"})\n",
    "        for paper in papers:\n",
    "            title = paper.find_all(\"p\",attrs={\"class\":\"title\"})[0].get_text().strip()\n",
    "            authors = [author.get_text().strip() for author in paper.find_all(name=\"p\",attrs={\"class\":\"authors\"})[0].find_all(name=\"a\")]\n",
    "            abstract = paper.find_all(name=\"span\", attrs={\"class\":\"abstract-full\"})[0].get_text().strip()\n",
    "            submitted = paper.find_all(name=\"p\",attrs={\"class\":\"is-size-7\"})[0].get_text().split(';')[0].removeprefix(\"Submitted \")\n",
    "            url = paper.find_all(name=\"p\",attrs = {\"class\":\"list-title\"})[0].find_all(name=\"a\")[1].get(\"href\")\n",
    "            paper_detail = {\n",
    "                \"title\":title,\n",
    "                \"authors\":authors,\n",
    "                \"abstract\":abstract,\n",
    "                \"submitted\":submitted,\n",
    "                \"url\":url,\n",
    "            }\n",
    "            papers_details.append(paper_detail)\n",
    "\n",
    "        return papers_details"
   ]
  },
  {
   "cell_type": "code",
   "execution_count": 155,
   "metadata": {},
   "outputs": [],
   "source": [
    "class SearchPaper:\n",
    "    def __init__(self):\n",
    "        pass \n",
    "\n",
    "    def run(self,query,max_limit=10):\n",
    "        # Search arxiv\n",
    "        arxiv_scrapper = ArxivScraper()\n",
    "        results = arxiv_scrapper.get_papers(query)\n",
    "\n",
    "        # search google scholer\n",
    "\n",
    "\n",
    "        # search others\n",
    "\n",
    "        return results\n",
    "    \n",
    "    def download_paper(self,paper,folder_name=\"./Papers\"):\n",
    "        try:\n",
    "            url = paper[\"url\"]\n",
    "            name = paper[\"title\"].replace(\":\",\"\").replace(\" \",\"_\").lower()\n",
    "            print(name)\n",
    "            pdf = requests.get(url)\n",
    "            if not os.path.exists(folder_name):\n",
    "                os.mkdirs(folder_name)\n",
    "\n",
    "            path= os.path.join(folder_name, f\"{name}.pdf\")\n",
    "            with open(path , \"wb\") as f:\n",
    "                f.write(pdf.content) \n",
    "        except:\n",
    "            print(\"An error has occured white download\")\n"
   ]
  },
  {
   "cell_type": "code",
   "execution_count": 156,
   "metadata": {},
   "outputs": [],
   "source": [
    "search_agent = SearchPaper()\n",
    "papers = search_agent.run(\"facial recognition\")"
   ]
  }
 ],
 "metadata": {
  "kernelspec": {
   "display_name": "pyvenv",
   "language": "python",
   "name": "python3"
  },
  "language_info": {
   "codemirror_mode": {
    "name": "ipython",
    "version": 3
   },
   "file_extension": ".py",
   "mimetype": "text/x-python",
   "name": "python",
   "nbconvert_exporter": "python",
   "pygments_lexer": "ipython3",
   "version": "3.11.5"
  }
 },
 "nbformat": 4,
 "nbformat_minor": 2
}
